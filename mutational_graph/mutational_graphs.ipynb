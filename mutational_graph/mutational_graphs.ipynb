{
 "cells": [
  {
   "cell_type": "markdown",
   "id": "1e5b88e6",
   "metadata": {},
   "source": [
    "<b><center>Mutational Graph library</b></center><br>\n",
    "First cell load all the needed libraries and functions"
   ]
  },
  {
   "cell_type": "code",
   "execution_count": 4,
   "id": "b59e06ce",
   "metadata": {},
   "outputs": [],
   "source": [
    "from libs.Functions_For_MutationalGraphs import *\n",
    "\n",
    "# percent of alt alleles to add mutation label\n",
    "# File containing label\n",
    "# Default is AminoAcid labele for non synonymous mutations\n",
    "def_min_val_label(15)\n",
    "load_mut_names(\"libs/Mut_Nuc_AA_ORF.dic\")"
   ]
  },
  {
   "cell_type": "markdown",
   "id": "9dac105b",
   "metadata": {},
   "source": [
    "Var file format is a tab seprated file that should have :<br>\n",
    " - A fix header :<br>\n",
    " - All positions 1 to 29903 as first field of each line\n",
    " - The reference allele from the wuhan sequence as seconde filed\n",
    " - The number of each possible allele summing to the number of sanple for each line :<br>\n",
    "\n",
    "\n",
    "<p style=\"font-family:'Lucida Console', monospace\"><pre>\n",
    "POS   REF  A    C    G    T    .\n",
    "1     A    100  0    0    0    0\n",
    "2     T    0    0    0    100  0\n",
    "3     T    0    0    0    100  0\n",
    "             (...)\n",
    "3495  A    100  0    0    0    0\n",
    "3496  G    0    0    100  0    0\n",
    "3497  G    0    0    100  0    0\n",
    "3498  C    0    27   0    0    73\n",
    "3499  T    0    0    0    100  0\n",
    "3500  A    100  0    0    0    0\n",
    "</pre></p>"
   ]
  },
  {
   "cell_type": "code",
   "execution_count": null,
   "id": "6fd4ac21",
   "metadata": {},
   "outputs": [],
   "source": [
    "############################################################\n",
    "####### This is a toy example with fake data ###############\n",
    "#### Duplicate this cell and make your own graph ###########\n",
    "############################################################\n",
    "\n",
    "# The list of names will only be used as legend on the y axis\n",
    "namelist=['Data'+str(i) for i in [1,2,3]]\n",
    "\n",
    "# The list of path have to point on valid varfiles  (see definition above)\n",
    "pathlist=[\"libs/fake\"+i+\".mutationalGraph.var\" for i in namelist]\n",
    "\n",
    "# Load of the files and transform it o a table list\n",
    "tablelist=openfiles(pathlist)\n",
    "\n",
    "# Create the list of position of interest using \n",
    "# - percentmin: alternative allele frequency have to be above this threshold in one of the table\n",
    "# - addmissing: if true, consider missing data as an alternative allele\n",
    "poslist=getpositions(tablelist,percentmin=25,addmissing=False)\n",
    "\n",
    "\n",
    "# You may filter some positions here\n",
    "poslist=[i for i in poslist if i>50 and i<29950]\n",
    "\n",
    "# Finally plot the data\n",
    "# - mytitle will be on the legend\n",
    "# - addtotal will add as first line the sum of all the libraries\n",
    "# - pdfname pdf file with the given name will be created\n",
    "bighist(tablelist,poslist,namelist,mytitle=\"test\",addtotal=False,PDFname=\"\")\n"
   ]
  }
 ],
 "metadata": {
  "kernelspec": {
   "display_name": "Python 3",
   "language": "python",
   "name": "python3"
  },
  "language_info": {
   "codemirror_mode": {
    "name": "ipython",
    "version": 3
   },
   "file_extension": ".py",
   "mimetype": "text/x-python",
   "name": "python",
   "nbconvert_exporter": "python",
   "pygments_lexer": "ipython3",
   "version": "3.8.2"
  }
 },
 "nbformat": 4,
 "nbformat_minor": 5
}
